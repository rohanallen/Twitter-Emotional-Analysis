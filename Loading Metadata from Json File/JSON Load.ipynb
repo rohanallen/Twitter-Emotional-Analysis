{
 "cells": [
  {
   "cell_type": "code",
   "execution_count": 1,
   "metadata": {},
   "outputs": [],
   "source": [
    "import pandas as pd\n",
    "import numpy as np"
   ]
  },
  {
   "cell_type": "code",
   "execution_count": 6,
   "metadata": {},
   "outputs": [
    {
     "name": "stdout",
     "output_type": "stream",
     "text": [
      "Started Reading JSON file which contains multiple JSON document\n"
     ]
    },
    {
     "name": "stderr",
     "output_type": "stream",
     "text": [
      "IOPub data rate exceeded.\n",
      "The notebook server will temporarily stop sending output\n",
      "to the client in order to avoid crashing it.\n",
      "To change this limit, set the config variable\n",
      "`--NotebookApp.iopub_data_rate_limit`.\n",
      "\n",
      "Current values:\n",
      "NotebookApp.iopub_data_rate_limit=1000000.0 (bytes/sec)\n",
      "NotebookApp.rate_limit_window=3.0 (secs)\n",
      "\n"
     ]
    }
   ],
   "source": [
    "import json\n",
    "\n",
    "tweet_List = []\n",
    "tweet_id= []\n",
    "tweet_txt= []\n",
    "print(\"Started Reading JSON file which contains multiple JSON document\")\n",
    "with open('C:/Users/Rohan/Downloads/SAP/Codes/Final Tweets JSON File/final.json') as f:\n",
    "    for jsonObj in f:\n",
    "        if len(jsonObj.strip()) == 0 :\n",
    "            continue\n",
    "        else:\n",
    "            tweet_Dict = json.loads(jsonObj)\n",
    "            tweet_List.append(tweet_Dict)\n",
    "            tweet_id.append(tweet_Dict['id_str'])\n",
    "            try:\n",
    "                tweet_txt.append(tweet_Dict['retweeted_status']['extended_tweet']['full_text'])\n",
    "\n",
    "            except:\n",
    "                try:\n",
    "                    tweet_txt.append(tweet_Dict['retweeted_status']['text'])\n",
    "\n",
    "                except:\n",
    "                    try:\n",
    "                        tweet_txt.append(tweet_Dict['extended_tweet']['full_text'])\n",
    "\n",
    "                    except:\n",
    "                        tweet_txt.append(tweet_Dict['text'])\n",
    "                    \n",
    "print(tweet_id)\n",
    "print(len(tweet_id))"
   ]
  },
  {
   "cell_type": "code",
   "execution_count": 10,
   "metadata": {},
   "outputs": [
    {
     "data": {
      "text/html": [
       "<div>\n",
       "<style scoped>\n",
       "    .dataframe tbody tr th:only-of-type {\n",
       "        vertical-align: middle;\n",
       "    }\n",
       "\n",
       "    .dataframe tbody tr th {\n",
       "        vertical-align: top;\n",
       "    }\n",
       "\n",
       "    .dataframe thead th {\n",
       "        text-align: right;\n",
       "    }\n",
       "</style>\n",
       "<table border=\"1\" class=\"dataframe\">\n",
       "  <thead>\n",
       "    <tr style=\"text-align: right;\">\n",
       "      <th></th>\n",
       "      <th>Tweet ID</th>\n",
       "      <th>Tweet Text</th>\n",
       "    </tr>\n",
       "  </thead>\n",
       "  <tbody>\n",
       "    <tr>\n",
       "      <th>0</th>\n",
       "      <td>1507137709206290435</td>\n",
       "      <td>It’s exhausting the amount of rage this brings...</td>\n",
       "    </tr>\n",
       "    <tr>\n",
       "      <th>1</th>\n",
       "      <td>1507137709759819798</td>\n",
       "      <td>Got Covid Booster #4 today, so thankful for sc...</td>\n",
       "    </tr>\n",
       "    <tr>\n",
       "      <th>2</th>\n",
       "      <td>1507137709214773251</td>\n",
       "      <td>EpiTrace© Sentinel provides the following capa...</td>\n",
       "    </tr>\n",
       "    <tr>\n",
       "      <th>3</th>\n",
       "      <td>1507137713492750336</td>\n",
       "      <td>Quarantine Slaughterhouse: Numbers Are Coming ...</td>\n",
       "    </tr>\n",
       "    <tr>\n",
       "      <th>4</th>\n",
       "      <td>1507137717246865409</td>\n",
       "      <td>This Week is the 2 Year Anniversary of #Covid1...</td>\n",
       "    </tr>\n",
       "  </tbody>\n",
       "</table>\n",
       "</div>"
      ],
      "text/plain": [
       "              Tweet ID                                         Tweet Text\n",
       "0  1507137709206290435  It’s exhausting the amount of rage this brings...\n",
       "1  1507137709759819798  Got Covid Booster #4 today, so thankful for sc...\n",
       "2  1507137709214773251  EpiTrace© Sentinel provides the following capa...\n",
       "3  1507137713492750336  Quarantine Slaughterhouse: Numbers Are Coming ...\n",
       "4  1507137717246865409  This Week is the 2 Year Anniversary of #Covid1..."
      ]
     },
     "execution_count": 10,
     "metadata": {},
     "output_type": "execute_result"
    }
   ],
   "source": [
    "df=pd.DataFrame()\n",
    "df['Tweet ID']=tweet_id\n",
    "df['Tweet Text']=tweet_txt\n",
    "df.head()"
   ]
  },
  {
   "cell_type": "code",
   "execution_count": 24,
   "metadata": {},
   "outputs": [
    {
     "data": {
      "text/plain": [
       "'EU PROJECT TOPICS AND MATERIALS\\nGet Complete Project Chapter 1-5 at https://t.co/ZRzox0bsRz\\n#EU #TuesdayThoughts #COVID19 #coronavirus #Education'"
      ]
     },
     "execution_count": 24,
     "metadata": {},
     "output_type": "execute_result"
    }
   ],
   "source": [
    "df['Tweet Text'][265107]"
   ]
  },
  {
   "cell_type": "code",
   "execution_count": 14,
   "metadata": {},
   "outputs": [],
   "source": [
    "#storing uncleaned tweets in csv file\n",
    "df.to_csv('Uncleaned Tweets.csv')"
   ]
  },
  {
   "cell_type": "code",
   "execution_count": 15,
   "metadata": {},
   "outputs": [
    {
     "data": {
      "text/plain": [
       "265108"
      ]
     },
     "execution_count": 15,
     "metadata": {},
     "output_type": "execute_result"
    }
   ],
   "source": [
    "len(df)"
   ]
  },
  {
   "cell_type": "code",
   "execution_count": 19,
   "metadata": {},
   "outputs": [],
   "source": [
    "################################################BREAK##################################################"
   ]
  },
  {
   "cell_type": "code",
   "execution_count": 25,
   "metadata": {},
   "outputs": [],
   "source": [
    "#Getting other metadata\n",
    "#hashtag and source prob and (txt-> touchwood)"
   ]
  },
  {
   "cell_type": "code",
   "execution_count": 26,
   "metadata": {},
   "outputs": [],
   "source": [
    "df1=pd.DataFrame()\n",
    "df1[\"Tweet ID\"]=list(map(lambda tweet:tweet['id'],tweet_List))\n",
    "df1[\"Tweet ID String\"]=list(map(lambda tweet:tweet['id_str'],tweet_List))\n",
    "df1[\"Tweet Created At\"]=list(map(lambda tweet:tweet['created_at'],tweet_List))\n",
    "df1[\"Username\"]=list(map(lambda tweet:tweet['user']['screen_name'],tweet_List))\n",
    "df1[\"Place\"]=list(map(lambda tweet:tweet['place'],tweet_List))\n",
    "df1[\"Location\"]=list(map(lambda tweet:tweet['user']['location'],tweet_List))\n",
    "df1[\"Source\"]=list(map(lambda tweet:tweet['source'],tweet_List))#\n",
    "df1[\"Language\"]=list(map(lambda tweet:tweet['lang'],tweet_List))\n",
    "df1[\"User ID\"]=list(map(lambda tweet:tweet['user']['id'],tweet_List))\n",
    "df1[\"User ID String\"]=list(map(lambda tweet:tweet['user']['id_str'],tweet_List))\n",
    "df1[\"User Followers\"]=list(map(lambda tweet:tweet['user']['followers_count'],tweet_List))\n",
    "df1[\"User Friends\"]=list(map(lambda tweet:tweet['user']['friends_count'],tweet_List))\n",
    "df1[\"User Favourite Count\"]=list(map(lambda tweet:tweet['user']['favourites_count'],tweet_List))\n",
    "df1[\"Tweet Favorite Count\"]=list(map(lambda tweet:tweet['favorite_count'],tweet_List))"
   ]
  },
  {
   "cell_type": "code",
   "execution_count": 29,
   "metadata": {},
   "outputs": [
    {
     "data": {
      "text/html": [
       "<div>\n",
       "<style scoped>\n",
       "    .dataframe tbody tr th:only-of-type {\n",
       "        vertical-align: middle;\n",
       "    }\n",
       "\n",
       "    .dataframe tbody tr th {\n",
       "        vertical-align: top;\n",
       "    }\n",
       "\n",
       "    .dataframe thead th {\n",
       "        text-align: right;\n",
       "    }\n",
       "</style>\n",
       "<table border=\"1\" class=\"dataframe\">\n",
       "  <thead>\n",
       "    <tr style=\"text-align: right;\">\n",
       "      <th></th>\n",
       "      <th>Tweet ID</th>\n",
       "      <th>Tweet ID String</th>\n",
       "      <th>Tweet Created At</th>\n",
       "      <th>Username</th>\n",
       "      <th>Place</th>\n",
       "      <th>Location</th>\n",
       "      <th>Source</th>\n",
       "      <th>Language</th>\n",
       "      <th>User ID</th>\n",
       "      <th>User ID String</th>\n",
       "      <th>User Followers</th>\n",
       "      <th>User Friends</th>\n",
       "      <th>User Favourite Count</th>\n",
       "      <th>Tweet Favorite Count</th>\n",
       "    </tr>\n",
       "  </thead>\n",
       "  <tbody>\n",
       "    <tr>\n",
       "      <th>0</th>\n",
       "      <td>1507137709206290435</td>\n",
       "      <td>1507137709206290435</td>\n",
       "      <td>Thu Mar 24 23:30:05 +0000 2022</td>\n",
       "      <td>BaileyDevonH</td>\n",
       "      <td>None</td>\n",
       "      <td>None</td>\n",
       "      <td>&lt;a href=\"http://twitter.com/download/android\" ...</td>\n",
       "      <td>en</td>\n",
       "      <td>365560659</td>\n",
       "      <td>365560659</td>\n",
       "      <td>210</td>\n",
       "      <td>529</td>\n",
       "      <td>16525</td>\n",
       "      <td>0</td>\n",
       "    </tr>\n",
       "    <tr>\n",
       "      <th>1</th>\n",
       "      <td>1507137709759819798</td>\n",
       "      <td>1507137709759819798</td>\n",
       "      <td>Thu Mar 24 23:30:05 +0000 2022</td>\n",
       "      <td>Rhonda45046566</td>\n",
       "      <td>None</td>\n",
       "      <td>Arizona, USA</td>\n",
       "      <td>&lt;a href=\"http://twitter.com/download/android\" ...</td>\n",
       "      <td>en</td>\n",
       "      <td>1043570469109084160</td>\n",
       "      <td>1043570469109084160</td>\n",
       "      <td>2017</td>\n",
       "      <td>3277</td>\n",
       "      <td>105507</td>\n",
       "      <td>0</td>\n",
       "    </tr>\n",
       "    <tr>\n",
       "      <th>2</th>\n",
       "      <td>1507137709214773251</td>\n",
       "      <td>1507137709214773251</td>\n",
       "      <td>Thu Mar 24 23:30:05 +0000 2022</td>\n",
       "      <td>epitracessi</td>\n",
       "      <td>None</td>\n",
       "      <td>Canada 🇨🇦 Global</td>\n",
       "      <td>&lt;a href=\"https://hiplayapp.com\" rel=\"nofollow\"...</td>\n",
       "      <td>en</td>\n",
       "      <td>1298451985436307457</td>\n",
       "      <td>1298451985436307457</td>\n",
       "      <td>469</td>\n",
       "      <td>4988</td>\n",
       "      <td>3767</td>\n",
       "      <td>0</td>\n",
       "    </tr>\n",
       "    <tr>\n",
       "      <th>3</th>\n",
       "      <td>1507137713492750336</td>\n",
       "      <td>1507137713492750336</td>\n",
       "      <td>Thu Mar 24 23:30:06 +0000 2022</td>\n",
       "      <td>JoshPNamm</td>\n",
       "      <td>None</td>\n",
       "      <td>Los Angeles, CA</td>\n",
       "      <td>&lt;a href=\"http://twitter.com/download/iphone\" r...</td>\n",
       "      <td>en</td>\n",
       "      <td>80136183</td>\n",
       "      <td>80136183</td>\n",
       "      <td>3831</td>\n",
       "      <td>3574</td>\n",
       "      <td>6591</td>\n",
       "      <td>0</td>\n",
       "    </tr>\n",
       "    <tr>\n",
       "      <th>4</th>\n",
       "      <td>1507137717246865409</td>\n",
       "      <td>1507137717246865409</td>\n",
       "      <td>Thu Mar 24 23:30:07 +0000 2022</td>\n",
       "      <td>JuanCar92086142</td>\n",
       "      <td>None</td>\n",
       "      <td>None</td>\n",
       "      <td>&lt;a href=\"http://twitter.com/download/android\" ...</td>\n",
       "      <td>en</td>\n",
       "      <td>1282417335568150540</td>\n",
       "      <td>1282417335568150540</td>\n",
       "      <td>100</td>\n",
       "      <td>351</td>\n",
       "      <td>4980</td>\n",
       "      <td>0</td>\n",
       "    </tr>\n",
       "  </tbody>\n",
       "</table>\n",
       "</div>"
      ],
      "text/plain": [
       "              Tweet ID      Tweet ID String                Tweet Created At  \\\n",
       "0  1507137709206290435  1507137709206290435  Thu Mar 24 23:30:05 +0000 2022   \n",
       "1  1507137709759819798  1507137709759819798  Thu Mar 24 23:30:05 +0000 2022   \n",
       "2  1507137709214773251  1507137709214773251  Thu Mar 24 23:30:05 +0000 2022   \n",
       "3  1507137713492750336  1507137713492750336  Thu Mar 24 23:30:06 +0000 2022   \n",
       "4  1507137717246865409  1507137717246865409  Thu Mar 24 23:30:07 +0000 2022   \n",
       "\n",
       "          Username Place          Location  \\\n",
       "0     BaileyDevonH  None              None   \n",
       "1   Rhonda45046566  None      Arizona, USA   \n",
       "2      epitracessi  None  Canada 🇨🇦 Global   \n",
       "3        JoshPNamm  None   Los Angeles, CA   \n",
       "4  JuanCar92086142  None              None   \n",
       "\n",
       "                                              Source Language  \\\n",
       "0  <a href=\"http://twitter.com/download/android\" ...       en   \n",
       "1  <a href=\"http://twitter.com/download/android\" ...       en   \n",
       "2  <a href=\"https://hiplayapp.com\" rel=\"nofollow\"...       en   \n",
       "3  <a href=\"http://twitter.com/download/iphone\" r...       en   \n",
       "4  <a href=\"http://twitter.com/download/android\" ...       en   \n",
       "\n",
       "               User ID       User ID String  User Followers  User Friends  \\\n",
       "0            365560659            365560659             210           529   \n",
       "1  1043570469109084160  1043570469109084160            2017          3277   \n",
       "2  1298451985436307457  1298451985436307457             469          4988   \n",
       "3             80136183             80136183            3831          3574   \n",
       "4  1282417335568150540  1282417335568150540             100           351   \n",
       "\n",
       "   User Favourite Count  Tweet Favorite Count  \n",
       "0                 16525                     0  \n",
       "1                105507                     0  \n",
       "2                  3767                     0  \n",
       "3                  6591                     0  \n",
       "4                  4980                     0  "
      ]
     },
     "execution_count": 29,
     "metadata": {},
     "output_type": "execute_result"
    }
   ],
   "source": [
    "df1.head()"
   ]
  },
  {
   "cell_type": "code",
   "execution_count": 30,
   "metadata": {},
   "outputs": [],
   "source": [
    "df1['Tweet Text']=df['Tweet Text']"
   ]
  },
  {
   "cell_type": "code",
   "execution_count": 31,
   "metadata": {},
   "outputs": [],
   "source": [
    "df1.to_csv('Uncleaned Tweets with Some Metadata.csv')"
   ]
  },
  {
   "cell_type": "code",
   "execution_count": null,
   "metadata": {},
   "outputs": [],
   "source": []
  }
 ],
 "metadata": {
  "kernelspec": {
   "display_name": "Python 3",
   "language": "python",
   "name": "python3"
  },
  "language_info": {
   "codemirror_mode": {
    "name": "ipython",
    "version": 3
   },
   "file_extension": ".py",
   "mimetype": "text/x-python",
   "name": "python",
   "nbconvert_exporter": "python",
   "pygments_lexer": "ipython3",
   "version": "3.7.6"
  }
 },
 "nbformat": 4,
 "nbformat_minor": 4
}
